{
 "cells": [
  {
   "cell_type": "code",
   "execution_count": 81,
   "metadata": {},
   "outputs": [],
   "source": [
    "import pandas as pd\n",
    "import numpy as np\n",
    "import matplotlib.pyplot as plt\n",
    "import seaborn as sns\n",
    "import warnings\n",
    "warnings.filterwarnings('ignore')\n",
    "from sklearn.preprocessing import RobustScaler\n",
    "from sklearn.model_selection import train_test_split, learning_curve\n",
    "from sklearn.linear_model import LogisticRegression\n",
    "from sklearn.metrics import accuracy_score,classification_report,confusion_matrix\n"
   ]
  },
  {
   "cell_type": "code",
   "execution_count": 82,
   "metadata": {},
   "outputs": [],
   "source": [
    "data = pd.read_excel('heart-dataset.xlsx')\n",
    "df = data.copy()"
   ]
  },
  {
   "cell_type": "code",
   "execution_count": 83,
   "metadata": {},
   "outputs": [],
   "source": [
    "df.columns = ['age','sexe','type_douleur_thoracique','pression_artérielle','cholesterol','glycémie_a_jeun','résultats_electrocardiogramme','fréquence_cardiaque_maximale','angine','depression','pente_du_segment_ST_exercice','presence_maladie_cardiaque']"
   ]
  },
  {
   "cell_type": "code",
   "execution_count": 84,
   "metadata": {},
   "outputs": [
    {
     "data": {
      "text/html": [
       "<div>\n",
       "<style scoped>\n",
       "    .dataframe tbody tr th:only-of-type {\n",
       "        vertical-align: middle;\n",
       "    }\n",
       "\n",
       "    .dataframe tbody tr th {\n",
       "        vertical-align: top;\n",
       "    }\n",
       "\n",
       "    .dataframe thead th {\n",
       "        text-align: right;\n",
       "    }\n",
       "</style>\n",
       "<table border=\"1\" class=\"dataframe\">\n",
       "  <thead>\n",
       "    <tr style=\"text-align: right;\">\n",
       "      <th></th>\n",
       "      <th>age</th>\n",
       "      <th>sexe</th>\n",
       "      <th>type_douleur_thoracique</th>\n",
       "      <th>pression_artérielle</th>\n",
       "      <th>cholesterol</th>\n",
       "      <th>glycémie_a_jeun</th>\n",
       "      <th>résultats_electrocardiogramme</th>\n",
       "      <th>fréquence_cardiaque_maximale</th>\n",
       "      <th>angine</th>\n",
       "      <th>depression</th>\n",
       "      <th>pente_du_segment_ST_exercice</th>\n",
       "      <th>presence_maladie_cardiaque</th>\n",
       "    </tr>\n",
       "  </thead>\n",
       "  <tbody>\n",
       "    <tr>\n",
       "      <th>0</th>\n",
       "      <td>40</td>\n",
       "      <td>1</td>\n",
       "      <td>2</td>\n",
       "      <td>140</td>\n",
       "      <td>289</td>\n",
       "      <td>0</td>\n",
       "      <td>0</td>\n",
       "      <td>172</td>\n",
       "      <td>1</td>\n",
       "      <td>0.0</td>\n",
       "      <td>1</td>\n",
       "      <td>0</td>\n",
       "    </tr>\n",
       "    <tr>\n",
       "      <th>1</th>\n",
       "      <td>49</td>\n",
       "      <td>0</td>\n",
       "      <td>1</td>\n",
       "      <td>160</td>\n",
       "      <td>180</td>\n",
       "      <td>0</td>\n",
       "      <td>0</td>\n",
       "      <td>156</td>\n",
       "      <td>1</td>\n",
       "      <td>1.0</td>\n",
       "      <td>0</td>\n",
       "      <td>1</td>\n",
       "    </tr>\n",
       "    <tr>\n",
       "      <th>2</th>\n",
       "      <td>37</td>\n",
       "      <td>1</td>\n",
       "      <td>2</td>\n",
       "      <td>130</td>\n",
       "      <td>283</td>\n",
       "      <td>0</td>\n",
       "      <td>2</td>\n",
       "      <td>98</td>\n",
       "      <td>1</td>\n",
       "      <td>0.0</td>\n",
       "      <td>1</td>\n",
       "      <td>0</td>\n",
       "    </tr>\n",
       "    <tr>\n",
       "      <th>3</th>\n",
       "      <td>48</td>\n",
       "      <td>0</td>\n",
       "      <td>0</td>\n",
       "      <td>138</td>\n",
       "      <td>214</td>\n",
       "      <td>0</td>\n",
       "      <td>0</td>\n",
       "      <td>108</td>\n",
       "      <td>0</td>\n",
       "      <td>1.5</td>\n",
       "      <td>0</td>\n",
       "      <td>1</td>\n",
       "    </tr>\n",
       "    <tr>\n",
       "      <th>4</th>\n",
       "      <td>54</td>\n",
       "      <td>1</td>\n",
       "      <td>1</td>\n",
       "      <td>150</td>\n",
       "      <td>195</td>\n",
       "      <td>0</td>\n",
       "      <td>0</td>\n",
       "      <td>122</td>\n",
       "      <td>1</td>\n",
       "      <td>0.0</td>\n",
       "      <td>1</td>\n",
       "      <td>0</td>\n",
       "    </tr>\n",
       "  </tbody>\n",
       "</table>\n",
       "</div>"
      ],
      "text/plain": [
       "   age  sexe  type_douleur_thoracique  pression_artérielle  cholesterol  \\\n",
       "0   40     1                        2                  140          289   \n",
       "1   49     0                        1                  160          180   \n",
       "2   37     1                        2                  130          283   \n",
       "3   48     0                        0                  138          214   \n",
       "4   54     1                        1                  150          195   \n",
       "\n",
       "   glycémie_a_jeun  résultats_electrocardiogramme  \\\n",
       "0                0                              0   \n",
       "1                0                              0   \n",
       "2                0                              2   \n",
       "3                0                              0   \n",
       "4                0                              0   \n",
       "\n",
       "   fréquence_cardiaque_maximale  angine  depression  \\\n",
       "0                           172       1         0.0   \n",
       "1                           156       1         1.0   \n",
       "2                            98       1         0.0   \n",
       "3                           108       0         1.5   \n",
       "4                           122       1         0.0   \n",
       "\n",
       "   pente_du_segment_ST_exercice  presence_maladie_cardiaque  \n",
       "0                             1                           0  \n",
       "1                             0                           1  \n",
       "2                             1                           0  \n",
       "3                             0                           1  \n",
       "4                             1                           0  "
      ]
     },
     "execution_count": 84,
     "metadata": {},
     "output_type": "execute_result"
    }
   ],
   "source": [
    "df['sexe'] = df['sexe'].replace({\"homme\":1,\"femme\":0})\n",
    "df['type_douleur_thoracique'] = df['type_douleur_thoracique'].replace({'ASY':0,'DNA':1,'AA':2,'AT':3})\n",
    "df['résultats_electrocardiogramme'] = df['résultats_electrocardiogramme'].replace({'Normal':0,'LVH':1,'ST':2})\n",
    "df['angine'] = df['angine'].replace({'Oui':0,'Non':1})\n",
    "df['pente_du_segment_ST_exercice'] = df['pente_du_segment_ST_exercice'].replace({'Plat':0,'Ascendant':1,'Descendant':2})\n",
    "df.head()"
   ]
  },
  {
   "cell_type": "markdown",
   "metadata": {
    "tags": []
   },
   "source": [
    "#### **1er modèle**"
   ]
  },
  {
   "cell_type": "code",
   "execution_count": 85,
   "metadata": {},
   "outputs": [],
   "source": [
    "X = df.drop(columns= \"presence_maladie_cardiaque\" , axis = 1)\n",
    "Y = df[\"presence_maladie_cardiaque\"]"
   ]
  },
  {
   "cell_type": "code",
   "execution_count": 86,
   "metadata": {},
   "outputs": [],
   "source": [
    "X_train, X_test, Y_train, Y_test = train_test_split(X, Y, test_size=0.2, random_state=42)"
   ]
  },
  {
   "cell_type": "code",
   "execution_count": 87,
   "metadata": {},
   "outputs": [
    {
     "name": "stdout",
     "output_type": "stream",
     "text": [
      "(734, 11) (184, 11) (184,) (734,)\n"
     ]
    }
   ],
   "source": [
    "print(X_train.shape, X_test.shape, Y_test.shape, Y_train.shape)"
   ]
  },
  {
   "cell_type": "code",
   "execution_count": 88,
   "metadata": {},
   "outputs": [
    {
     "data": {
      "text/plain": [
       "LogisticRegression(random_state=42)"
      ]
     },
     "execution_count": 88,
     "metadata": {},
     "output_type": "execute_result"
    }
   ],
   "source": [
    "model = LogisticRegression(random_state=42)\n",
    "model.fit(X_train,Y_train)"
   ]
  },
  {
   "cell_type": "code",
   "execution_count": 89,
   "metadata": {},
   "outputs": [],
   "source": [
    "Y_pred = model.predict(X_test)"
   ]
  },
  {
   "cell_type": "code",
   "execution_count": 90,
   "metadata": {},
   "outputs": [
    {
     "name": "stdout",
     "output_type": "stream",
     "text": [
      "              precision    recall  f1-score   support\n",
      "\n",
      "           0       0.78      0.88      0.83        77\n",
      "           1       0.91      0.82      0.86       107\n",
      "\n",
      "    accuracy                           0.85       184\n",
      "   macro avg       0.84      0.85      0.85       184\n",
      "weighted avg       0.85      0.85      0.85       184\n",
      "\n"
     ]
    }
   ],
   "source": [
    "print(classification_report(Y_test, Y_pred))"
   ]
  },
  {
   "cell_type": "code",
   "execution_count": 91,
   "metadata": {},
   "outputs": [
    {
     "data": {
      "text/html": [
       "<div>\n",
       "<style scoped>\n",
       "    .dataframe tbody tr th:only-of-type {\n",
       "        vertical-align: middle;\n",
       "    }\n",
       "\n",
       "    .dataframe tbody tr th {\n",
       "        vertical-align: top;\n",
       "    }\n",
       "\n",
       "    .dataframe thead th {\n",
       "        text-align: right;\n",
       "    }\n",
       "</style>\n",
       "<table border=\"1\" class=\"dataframe\">\n",
       "  <thead>\n",
       "    <tr style=\"text-align: right;\">\n",
       "      <th></th>\n",
       "      <th>Absence</th>\n",
       "      <th>Présence</th>\n",
       "    </tr>\n",
       "  </thead>\n",
       "  <tbody>\n",
       "    <tr>\n",
       "      <th>Absence</th>\n",
       "      <td>68</td>\n",
       "      <td>9</td>\n",
       "    </tr>\n",
       "    <tr>\n",
       "      <th>Présence</th>\n",
       "      <td>19</td>\n",
       "      <td>88</td>\n",
       "    </tr>\n",
       "  </tbody>\n",
       "</table>\n",
       "</div>"
      ],
      "text/plain": [
       "          Absence  Présence\n",
       "Absence        68         9\n",
       "Présence       19        88"
      ]
     },
     "execution_count": 91,
     "metadata": {},
     "output_type": "execute_result"
    }
   ],
   "source": [
    "conf_matrix = pd.DataFrame(confusion_matrix(Y_test,Y_pred), columns=['Absence','Présence'], index=['Absence','Présence'])\n",
    "conf_matrix"
   ]
  },
  {
   "cell_type": "code",
   "execution_count": 93,
   "metadata": {},
   "outputs": [
    {
     "data": {
      "image/png": "[encoded data removed]",
      "text/plain": [
       "<Figure size 864x576 with 1 Axes>"
      ]
     },
     "metadata": {
      "needs_background": "light"
     },
     "output_type": "display_data"
    }
   ],
   "source": [
    "var, train_score, val_score = learning_curve(model,X_train, Y_train, train_sizes=np.linspace(0.1,1.0,10), cv=5, scoring='f1')\n",
    "plt.figure(figsize=(12,8))\n",
    "plt.title('Learning Curve')\n",
    "plt.plot(var, train_score.mean(axis = 1), label = 'Train')\n",
    "plt.plot(var, val_score.mean(axis = 1), label = 'Validation')\n",
    "plt.xlabel('Train_size')\n",
    "plt.legend()\n",
    "plt.show()"
   ]
  },
  {
   "cell_type": "markdown",
   "metadata": {},
   "source": [
    "### **2ème modèle**"
   ]
  },
  {
   "cell_type": "code",
   "execution_count": 103,
   "metadata": {},
   "outputs": [],
   "source": [
    "df = data.copy()\n",
    "df.columns = ['age','sexe','type_douleur_thoracique','pression_artérielle','cholesterol','glycémie_a_jeun','résultats_electrocardiogramme','fréquence_cardiaque_maximale','angine','depression','pente_du_segment_ST_exercice','presence_maladie_cardiaque']"
   ]
  },
  {
   "cell_type": "code",
   "execution_count": 105,
   "metadata": {},
   "outputs": [
    {
     "data": {
      "text/html": [
       "<div>\n",
       "<style scoped>\n",
       "    .dataframe tbody tr th:only-of-type {\n",
       "        vertical-align: middle;\n",
       "    }\n",
       "\n",
       "    .dataframe tbody tr th {\n",
       "        vertical-align: top;\n",
       "    }\n",
       "\n",
       "    .dataframe thead th {\n",
       "        text-align: right;\n",
       "    }\n",
       "</style>\n",
       "<table border=\"1\" class=\"dataframe\">\n",
       "  <thead>\n",
       "    <tr style=\"text-align: right;\">\n",
       "      <th></th>\n",
       "      <th>age</th>\n",
       "      <th>sexe</th>\n",
       "      <th>type_douleur_thoracique</th>\n",
       "      <th>pression_artérielle</th>\n",
       "      <th>cholesterol</th>\n",
       "      <th>glycémie_a_jeun</th>\n",
       "      <th>résultats_electrocardiogramme</th>\n",
       "      <th>fréquence_cardiaque_maximale</th>\n",
       "      <th>angine</th>\n",
       "      <th>depression</th>\n",
       "      <th>pente_du_segment_ST_exercice</th>\n",
       "      <th>presence_maladie_cardiaque</th>\n",
       "    </tr>\n",
       "  </thead>\n",
       "  <tbody>\n",
       "    <tr>\n",
       "      <th>0</th>\n",
       "      <td>-1.076923</td>\n",
       "      <td>1</td>\n",
       "      <td>2</td>\n",
       "      <td>0.5</td>\n",
       "      <td>0.704000</td>\n",
       "      <td>0</td>\n",
       "      <td>0.0</td>\n",
       "      <td>0.944444</td>\n",
       "      <td>1</td>\n",
       "      <td>-0.400000</td>\n",
       "      <td>1</td>\n",
       "      <td>0</td>\n",
       "    </tr>\n",
       "    <tr>\n",
       "      <th>1</th>\n",
       "      <td>-0.384615</td>\n",
       "      <td>0</td>\n",
       "      <td>1</td>\n",
       "      <td>1.5</td>\n",
       "      <td>-0.458667</td>\n",
       "      <td>0</td>\n",
       "      <td>0.0</td>\n",
       "      <td>0.500000</td>\n",
       "      <td>1</td>\n",
       "      <td>0.266667</td>\n",
       "      <td>0</td>\n",
       "      <td>1</td>\n",
       "    </tr>\n",
       "    <tr>\n",
       "      <th>2</th>\n",
       "      <td>-1.307692</td>\n",
       "      <td>1</td>\n",
       "      <td>2</td>\n",
       "      <td>0.0</td>\n",
       "      <td>0.640000</td>\n",
       "      <td>0</td>\n",
       "      <td>2.0</td>\n",
       "      <td>-1.111111</td>\n",
       "      <td>1</td>\n",
       "      <td>-0.400000</td>\n",
       "      <td>1</td>\n",
       "      <td>0</td>\n",
       "    </tr>\n",
       "    <tr>\n",
       "      <th>3</th>\n",
       "      <td>-0.461538</td>\n",
       "      <td>0</td>\n",
       "      <td>0</td>\n",
       "      <td>0.4</td>\n",
       "      <td>-0.096000</td>\n",
       "      <td>0</td>\n",
       "      <td>0.0</td>\n",
       "      <td>-0.833333</td>\n",
       "      <td>0</td>\n",
       "      <td>0.600000</td>\n",
       "      <td>0</td>\n",
       "      <td>1</td>\n",
       "    </tr>\n",
       "    <tr>\n",
       "      <th>4</th>\n",
       "      <td>0.000000</td>\n",
       "      <td>1</td>\n",
       "      <td>1</td>\n",
       "      <td>1.0</td>\n",
       "      <td>-0.298667</td>\n",
       "      <td>0</td>\n",
       "      <td>0.0</td>\n",
       "      <td>-0.444444</td>\n",
       "      <td>1</td>\n",
       "      <td>-0.400000</td>\n",
       "      <td>1</td>\n",
       "      <td>0</td>\n",
       "    </tr>\n",
       "  </tbody>\n",
       "</table>\n",
       "</div>"
      ],
      "text/plain": [
       "        age  sexe  type_douleur_thoracique  pression_artérielle  cholesterol  \\\n",
       "0 -1.076923     1                        2                  0.5     0.704000   \n",
       "1 -0.384615     0                        1                  1.5    -0.458667   \n",
       "2 -1.307692     1                        2                  0.0     0.640000   \n",
       "3 -0.461538     0                        0                  0.4    -0.096000   \n",
       "4  0.000000     1                        1                  1.0    -0.298667   \n",
       "\n",
       "   glycémie_a_jeun  résultats_electrocardiogramme  \\\n",
       "0                0                            0.0   \n",
       "1                0                            0.0   \n",
       "2                0                            2.0   \n",
       "3                0                            0.0   \n",
       "4                0                            0.0   \n",
       "\n",
       "   fréquence_cardiaque_maximale  angine  depression  \\\n",
       "0                      0.944444       1   -0.400000   \n",
       "1                      0.500000       1    0.266667   \n",
       "2                     -1.111111       1   -0.400000   \n",
       "3                     -0.833333       0    0.600000   \n",
       "4                     -0.444444       1   -0.400000   \n",
       "\n",
       "   pente_du_segment_ST_exercice  presence_maladie_cardiaque  \n",
       "0                             1                           0  \n",
       "1                             0                           1  \n",
       "2                             1                           0  \n",
       "3                             0                           1  \n",
       "4                             1                           0  "
      ]
     },
     "execution_count": 105,
     "metadata": {},
     "output_type": "execute_result"
    }
   ],
   "source": [
    "df['sexe'] = df['sexe'].replace({\"homme\":1,\"femme\":0})\n",
    "df['type_douleur_thoracique'] = df['type_douleur_thoracique'].replace({'ASY':0,'DNA':1,'AA':2,'AT':3})\n",
    "df['résultats_electrocardiogramme'] = df['résultats_electrocardiogramme'].replace({'Normal':0,'LVH':1,'ST':2})\n",
    "df['angine'] = df['angine'].replace({'Oui':0,'Non':1})\n",
    "df['pente_du_segment_ST_exercice'] = df['pente_du_segment_ST_exercice'].replace({'Plat':0,'Ascendant':1,'Descendant':2})\n",
    "\n",
    "cols_quanti = ['age','pression_artérielle','cholesterol','résultats_electrocardiogramme','fréquence_cardiaque_maximale','depression']\n",
    "normalizer = RobustScaler()\n",
    "df[cols_quanti] = normalizer.fit_transform(df[cols_quanti].values)\n",
    "df_1 = df\n",
    "df_1.head()"
   ]
  },
  {
   "cell_type": "code",
   "execution_count": 106,
   "metadata": {},
   "outputs": [],
   "source": [
    "X = df.drop(columns= \"presence_maladie_cardiaque\" , axis = 1)\n",
    "Y = df[\"presence_maladie_cardiaque\"]"
   ]
  },
  {
   "cell_type": "code",
   "execution_count": 107,
   "metadata": {},
   "outputs": [],
   "source": [
    "X_train, X_test, Y_train, Y_test = train_test_split(X, Y, test_size=0.2, random_state=42)"
   ]
  },
  {
   "cell_type": "code",
   "execution_count": 108,
   "metadata": {},
   "outputs": [],
   "source": [
    "model = LogisticRegression(random_state=42)\n",
    "model.fit(X_train,Y_train)\n",
    "Y_pred = model.predict(X_test)"
   ]
  },
  {
   "cell_type": "code",
   "execution_count": 109,
   "metadata": {},
   "outputs": [
    {
     "name": "stdout",
     "output_type": "stream",
     "text": [
      "              precision    recall  f1-score   support\n",
      "\n",
      "           0       0.78      0.90      0.84        77\n",
      "           1       0.92      0.82      0.87       107\n",
      "\n",
      "    accuracy                           0.85       184\n",
      "   macro avg       0.85      0.86      0.85       184\n",
      "weighted avg       0.86      0.85      0.85       184\n",
      "\n"
     ]
    }
   ],
   "source": [
    "print(classification_report(Y_test, Y_pred))"
   ]
  },
  {
   "cell_type": "code",
   "execution_count": 110,
   "metadata": {},
   "outputs": [
    {
     "data": {
      "text/html": [
       "<div>\n",
       "<style scoped>\n",
       "    .dataframe tbody tr th:only-of-type {\n",
       "        vertical-align: middle;\n",
       "    }\n",
       "\n",
       "    .dataframe tbody tr th {\n",
       "        vertical-align: top;\n",
       "    }\n",
       "\n",
       "    .dataframe thead th {\n",
       "        text-align: right;\n",
       "    }\n",
       "</style>\n",
       "<table border=\"1\" class=\"dataframe\">\n",
       "  <thead>\n",
       "    <tr style=\"text-align: right;\">\n",
       "      <th></th>\n",
       "      <th>Absence</th>\n",
       "      <th>Présence</th>\n",
       "    </tr>\n",
       "  </thead>\n",
       "  <tbody>\n",
       "    <tr>\n",
       "      <th>Absence</th>\n",
       "      <td>69</td>\n",
       "      <td>8</td>\n",
       "    </tr>\n",
       "    <tr>\n",
       "      <th>Présence</th>\n",
       "      <td>19</td>\n",
       "      <td>88</td>\n",
       "    </tr>\n",
       "  </tbody>\n",
       "</table>\n",
       "</div>"
      ],
      "text/plain": [
       "          Absence  Présence\n",
       "Absence        69         8\n",
       "Présence       19        88"
      ]
     },
     "execution_count": 110,
     "metadata": {},
     "output_type": "execute_result"
    }
   ],
   "source": [
    "pd.DataFrame(confusion_matrix(Y_test,Y_pred), columns=['Absence','Présence'], index=['Absence','Présence'])"
   ]
  },
  {
   "cell_type": "code",
   "execution_count": 111,
   "metadata": {},
   "outputs": [
    {
     "data": {
      "image/png": "[encoded data removed]",
      "text/plain": [
       "<Figure size 864x576 with 1 Axes>"
      ]
     },
     "metadata": {
      "needs_background": "light"
     },
     "output_type": "display_data"
    }
   ],
   "source": [
    "var, train_score, val_score = learning_curve(model,X_train, Y_train, train_sizes=np.linspace(0.1,1.0,10), cv=5, scoring='f1')\n",
    "plt.figure(figsize=(12,8))\n",
    "plt.title('Learning Curve')\n",
    "plt.plot(var, train_score.mean(axis = 1), label = 'Train')\n",
    "plt.plot(var, val_score.mean(axis = 1), label = 'Validation')\n",
    "plt.xlabel('Train_size')\n",
    "plt.legend()\n",
    "plt.show()"
   ]
  },
  {
   "cell_type": "code",
   "execution_count": null,
   "metadata": {},
   "outputs": [],
   "source": []
  },
  {
   "cell_type": "code",
   "execution_count": null,
   "metadata": {},
   "outputs": [],
   "source": []
  },
  {
   "cell_type": "markdown",
   "metadata": {
    "tags": []
   },
   "source": [
    "## Résultats du Prepossessing & Modelisation\n",
    "\n",
    "**1ère Modelisation**\n",
    "\n",
    "> Matrice de confusion\n",
    "- Sur un total de 77 personnes qui n'ont pas de maladie cardiaque, on a pu identifier correctement 68 personnes et on a fait 9 erreurs donc 9 personnes qui ont effectivement la maladie cardiaque mais ont été dectecté comme ne pas avoir la maladie (attention).\n",
    "\n",
    "- De même sur un total de 107 personnes qui souffre de maladie cardiaque, on a pu identifier correctement 88 personnes et on a fait 19 erreurs donc 19 personnes qui ont n'ont pas la maladie cardiaque mais ont été dectecté comme avoir la maladie.\n",
    "\n",
    "> Courbe d'apprentissage"
   ]
  },
  {
   "cell_type": "code",
   "execution_count": null,
   "metadata": {},
   "outputs": [],
   "source": []
  }
 ],
 "metadata": {
  "kernelspec": {
   "display_name": "Python 3",
   "language": "python",
   "name": "python3"
  },
  "language_info": {
   "codemirror_mode": {
    "name": "ipython",
    "version": 3
   },
   "file_extension": ".py",
   "mimetype": "text/x-python",
   "name": "python",
   "nbconvert_exporter": "python",
   "pygments_lexer": "ipython3",
   "version": "3.8.10"
  }
 },
 "nbformat": 4,
 "nbformat_minor": 4
}
