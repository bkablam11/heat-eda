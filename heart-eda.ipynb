{
 "cells": [
  {
   "cell_type": "code",
   "execution_count": 8,
   "metadata": {},
   "outputs": [],
   "source": [
    "import pandas as pd\n",
    "import numpy as np\n",
    "import matplotlib.pyplot as plt\n",
    "import warnings\n",
    "warnings.filterwarnings('ignore')"
   ]
  },
  {
   "cell_type": "code",
   "execution_count": 9,
   "metadata": {},
   "outputs": [],
   "source": [
    "data = pd.read_excel('heart-dataset.xlsx')\n",
    "df = data.copy()"
   ]
  },
  {
   "cell_type": "code",
   "execution_count": 25,
   "metadata": {},
   "outputs": [
    {
     "data": {
      "text/html": [
       "<div>\n",
       "<style scoped>\n",
       "    .dataframe tbody tr th:only-of-type {\n",
       "        vertical-align: middle;\n",
       "    }\n",
       "\n",
       "    .dataframe tbody tr th {\n",
       "        vertical-align: top;\n",
       "    }\n",
       "\n",
       "    .dataframe thead th {\n",
       "        text-align: right;\n",
       "    }\n",
       "</style>\n",
       "<table border=\"1\" class=\"dataframe\">\n",
       "  <thead>\n",
       "    <tr style=\"text-align: right;\">\n",
       "      <th></th>\n",
       "      <th>age</th>\n",
       "      <th>sexe</th>\n",
       "      <th>type_douleur_thoracique</th>\n",
       "      <th>pression_artérielle</th>\n",
       "      <th>cholesterol</th>\n",
       "      <th>glycémie_a_jeun</th>\n",
       "      <th>résultats_electrocardiogramme</th>\n",
       "      <th>fréquence_cardiaque_maximale</th>\n",
       "      <th>angine</th>\n",
       "      <th>depression</th>\n",
       "      <th>pente_du_segment_ST_exercice</th>\n",
       "      <th>presence_maladie_cardiaque</th>\n",
       "    </tr>\n",
       "  </thead>\n",
       "  <tbody>\n",
       "    <tr>\n",
       "      <th>0</th>\n",
       "      <td>40</td>\n",
       "      <td>homme</td>\n",
       "      <td>AA</td>\n",
       "      <td>140</td>\n",
       "      <td>289</td>\n",
       "      <td>0</td>\n",
       "      <td>Normal</td>\n",
       "      <td>172</td>\n",
       "      <td>Non</td>\n",
       "      <td>0.0</td>\n",
       "      <td>Ascendant</td>\n",
       "      <td>0</td>\n",
       "    </tr>\n",
       "    <tr>\n",
       "      <th>1</th>\n",
       "      <td>49</td>\n",
       "      <td>femme</td>\n",
       "      <td>DNA</td>\n",
       "      <td>160</td>\n",
       "      <td>180</td>\n",
       "      <td>0</td>\n",
       "      <td>Normal</td>\n",
       "      <td>156</td>\n",
       "      <td>Non</td>\n",
       "      <td>1.0</td>\n",
       "      <td>Plat</td>\n",
       "      <td>1</td>\n",
       "    </tr>\n",
       "    <tr>\n",
       "      <th>2</th>\n",
       "      <td>37</td>\n",
       "      <td>homme</td>\n",
       "      <td>AA</td>\n",
       "      <td>130</td>\n",
       "      <td>283</td>\n",
       "      <td>0</td>\n",
       "      <td>ST</td>\n",
       "      <td>98</td>\n",
       "      <td>Non</td>\n",
       "      <td>0.0</td>\n",
       "      <td>Ascendant</td>\n",
       "      <td>0</td>\n",
       "    </tr>\n",
       "    <tr>\n",
       "      <th>3</th>\n",
       "      <td>48</td>\n",
       "      <td>femme</td>\n",
       "      <td>ASY</td>\n",
       "      <td>138</td>\n",
       "      <td>214</td>\n",
       "      <td>0</td>\n",
       "      <td>Normal</td>\n",
       "      <td>108</td>\n",
       "      <td>Oui</td>\n",
       "      <td>1.5</td>\n",
       "      <td>Plat</td>\n",
       "      <td>1</td>\n",
       "    </tr>\n",
       "    <tr>\n",
       "      <th>4</th>\n",
       "      <td>54</td>\n",
       "      <td>homme</td>\n",
       "      <td>DNA</td>\n",
       "      <td>150</td>\n",
       "      <td>195</td>\n",
       "      <td>0</td>\n",
       "      <td>Normal</td>\n",
       "      <td>122</td>\n",
       "      <td>Non</td>\n",
       "      <td>0.0</td>\n",
       "      <td>Ascendant</td>\n",
       "      <td>0</td>\n",
       "    </tr>\n",
       "  </tbody>\n",
       "</table>\n",
       "</div>"
      ],
      "text/plain": [
       "   age   sexe type_douleur_thoracique  pression_artérielle  cholesterol  \\\n",
       "0   40  homme                      AA                  140          289   \n",
       "1   49  femme                     DNA                  160          180   \n",
       "2   37  homme                      AA                  130          283   \n",
       "3   48  femme                     ASY                  138          214   \n",
       "4   54  homme                     DNA                  150          195   \n",
       "\n",
       "   glycémie_a_jeun résultats_electrocardiogramme  \\\n",
       "0                0                        Normal   \n",
       "1                0                        Normal   \n",
       "2                0                            ST   \n",
       "3                0                        Normal   \n",
       "4                0                        Normal   \n",
       "\n",
       "   fréquence_cardiaque_maximale angine  depression  \\\n",
       "0                           172    Non         0.0   \n",
       "1                           156    Non         1.0   \n",
       "2                            98    Non         0.0   \n",
       "3                           108    Oui         1.5   \n",
       "4                           122    Non         0.0   \n",
       "\n",
       "  pente_du_segment_ST_exercice  presence_maladie_cardiaque  \n",
       "0                    Ascendant                           0  \n",
       "1                         Plat                           1  \n",
       "2                    Ascendant                           0  \n",
       "3                         Plat                           1  \n",
       "4                    Ascendant                           0  "
      ]
     },
     "execution_count": 25,
     "metadata": {},
     "output_type": "execute_result"
    }
   ],
   "source": [
    "df.head()"
   ]
  },
  {
   "cell_type": "code",
   "execution_count": 18,
   "metadata": {},
   "outputs": [
    {
     "data": {
      "text/html": [
       "<div>\n",
       "<style scoped>\n",
       "    .dataframe tbody tr th:only-of-type {\n",
       "        vertical-align: middle;\n",
       "    }\n",
       "\n",
       "    .dataframe tbody tr th {\n",
       "        vertical-align: top;\n",
       "    }\n",
       "\n",
       "    .dataframe thead th {\n",
       "        text-align: right;\n",
       "    }\n",
       "</style>\n",
       "<table border=\"1\" class=\"dataframe\">\n",
       "  <thead>\n",
       "    <tr style=\"text-align: right;\">\n",
       "      <th></th>\n",
       "      <th>age</th>\n",
       "      <th>sexe</th>\n",
       "      <th>type_douleur_thoracique</th>\n",
       "      <th>pression_artérielle</th>\n",
       "      <th>cholesterol</th>\n",
       "      <th>glycémie_a_jeun</th>\n",
       "      <th>résultats_electrocardiogramme</th>\n",
       "      <th>fréquence_cardiaque_maximale</th>\n",
       "      <th>angine</th>\n",
       "      <th>depression</th>\n",
       "      <th>pente_du_segment_ST_exercice</th>\n",
       "      <th>presence_maladie_cardiaque</th>\n",
       "    </tr>\n",
       "  </thead>\n",
       "  <tbody>\n",
       "    <tr>\n",
       "      <th>0</th>\n",
       "      <td>40</td>\n",
       "      <td>homme</td>\n",
       "      <td>AA</td>\n",
       "      <td>140</td>\n",
       "      <td>289</td>\n",
       "      <td>0</td>\n",
       "      <td>Normal</td>\n",
       "      <td>172</td>\n",
       "      <td>Non</td>\n",
       "      <td>0.0</td>\n",
       "      <td>Ascendant</td>\n",
       "      <td>0</td>\n",
       "    </tr>\n",
       "    <tr>\n",
       "      <th>1</th>\n",
       "      <td>49</td>\n",
       "      <td>femme</td>\n",
       "      <td>DNA</td>\n",
       "      <td>160</td>\n",
       "      <td>180</td>\n",
       "      <td>0</td>\n",
       "      <td>Normal</td>\n",
       "      <td>156</td>\n",
       "      <td>Non</td>\n",
       "      <td>1.0</td>\n",
       "      <td>Plat</td>\n",
       "      <td>1</td>\n",
       "    </tr>\n",
       "    <tr>\n",
       "      <th>2</th>\n",
       "      <td>37</td>\n",
       "      <td>homme</td>\n",
       "      <td>AA</td>\n",
       "      <td>130</td>\n",
       "      <td>283</td>\n",
       "      <td>0</td>\n",
       "      <td>ST</td>\n",
       "      <td>98</td>\n",
       "      <td>Non</td>\n",
       "      <td>0.0</td>\n",
       "      <td>Ascendant</td>\n",
       "      <td>0</td>\n",
       "    </tr>\n",
       "    <tr>\n",
       "      <th>3</th>\n",
       "      <td>48</td>\n",
       "      <td>femme</td>\n",
       "      <td>ASY</td>\n",
       "      <td>138</td>\n",
       "      <td>214</td>\n",
       "      <td>0</td>\n",
       "      <td>Normal</td>\n",
       "      <td>108</td>\n",
       "      <td>Oui</td>\n",
       "      <td>1.5</td>\n",
       "      <td>Plat</td>\n",
       "      <td>1</td>\n",
       "    </tr>\n",
       "    <tr>\n",
       "      <th>4</th>\n",
       "      <td>54</td>\n",
       "      <td>homme</td>\n",
       "      <td>DNA</td>\n",
       "      <td>150</td>\n",
       "      <td>195</td>\n",
       "      <td>0</td>\n",
       "      <td>Normal</td>\n",
       "      <td>122</td>\n",
       "      <td>Non</td>\n",
       "      <td>0.0</td>\n",
       "      <td>Ascendant</td>\n",
       "      <td>0</td>\n",
       "    </tr>\n",
       "  </tbody>\n",
       "</table>\n",
       "</div>"
      ],
      "text/plain": [
       "   age   sexe type_douleur_thoracique  pression_artérielle  cholesterol  \\\n",
       "0   40  homme                      AA                  140          289   \n",
       "1   49  femme                     DNA                  160          180   \n",
       "2   37  homme                      AA                  130          283   \n",
       "3   48  femme                     ASY                  138          214   \n",
       "4   54  homme                     DNA                  150          195   \n",
       "\n",
       "   glycémie_a_jeun résultats_electrocardiogramme  \\\n",
       "0                0                        Normal   \n",
       "1                0                        Normal   \n",
       "2                0                            ST   \n",
       "3                0                        Normal   \n",
       "4                0                        Normal   \n",
       "\n",
       "   fréquence_cardiaque_maximale angine  depression  \\\n",
       "0                           172    Non         0.0   \n",
       "1                           156    Non         1.0   \n",
       "2                            98    Non         0.0   \n",
       "3                           108    Oui         1.5   \n",
       "4                           122    Non         0.0   \n",
       "\n",
       "  pente_du_segment_ST_exercice  presence_maladie_cardiaque  \n",
       "0                    Ascendant                           0  \n",
       "1                         Plat                           1  \n",
       "2                    Ascendant                           0  \n",
       "3                         Plat                           1  \n",
       "4                    Ascendant                           0  "
      ]
     },
     "execution_count": 18,
     "metadata": {},
     "output_type": "execute_result"
    }
   ],
   "source": [
    "df.columns = ['age','sexe','type_douleur_thoracique','pression_artérielle','cholesterol','glycémie_a_jeun','résultats_electrocardiogramme','fréquence_cardiaque_maximale','angine','depression','pente_du_segment_ST_exercice','presence_maladie_cardiaque']\n",
    "df.head()"
   ]
  },
  {
   "cell_type": "code",
   "execution_count": 19,
   "metadata": {},
   "outputs": [
    {
     "name": "stdout",
     "output_type": "stream",
     "text": [
      "<class 'pandas.core.frame.DataFrame'>\n",
      "RangeIndex: 918 entries, 0 to 917\n",
      "Data columns (total 12 columns):\n",
      " #   Column                         Non-Null Count  Dtype  \n",
      "---  ------                         --------------  -----  \n",
      " 0   age                            918 non-null    int64  \n",
      " 1   sexe                           918 non-null    object \n",
      " 2   type_douleur_thoracique        918 non-null    object \n",
      " 3   pression_artérielle            918 non-null    int64  \n",
      " 4   cholesterol                    918 non-null    int64  \n",
      " 5   glycémie_a_jeun                918 non-null    int64  \n",
      " 6   résultats_electrocardiogramme  918 non-null    object \n",
      " 7   fréquence_cardiaque_maximale   918 non-null    int64  \n",
      " 8   angine                         918 non-null    object \n",
      " 9   depression                     918 non-null    float64\n",
      " 10  pente_du_segment_ST_exercice   918 non-null    object \n",
      " 11  presence_maladie_cardiaque     918 non-null    int64  \n",
      "dtypes: float64(1), int64(6), object(5)\n",
      "memory usage: 86.2+ KB\n"
     ]
    }
   ],
   "source": [
    "df.info()"
   ]
  },
  {
   "cell_type": "code",
   "execution_count": 23,
   "metadata": {},
   "outputs": [
    {
     "data": {
      "text/plain": [
       "presence_maladie_cardiaque\n",
       "0    410\n",
       "1    508\n",
       "dtype: int64"
      ]
     },
     "execution_count": 23,
     "metadata": {},
     "output_type": "execute_result"
    }
   ],
   "source": [
    "df_target = df.groupby(\"presence_maladie_cardiaque\").size()\n",
    "df_target"
   ]
  },
  {
   "cell_type": "code",
   "execution_count": 24,
   "metadata": {},
   "outputs": [
    {
     "data": {
      "image/png": "[encoded data removed]",
      "text/plain": [
       "<Figure size 432x288 with 1 Axes>"
      ]
     },
     "metadata": {},
     "output_type": "display_data"
    }
   ],
   "source": [
    "plt.pie(df_target.values, labels = [\"Absence d'une maladie cardiaque \", \"Presence d'une maladie cardiaque\"], autopct='%1.1f%%', radius = 1.5, textprops = {\"fontsize\" : 16}) \n",
    "plt.show()"
   ]
  },
  {
   "cell_type": "code",
   "execution_count": 27,
   "metadata": {},
   "outputs": [
    {
     "data": {
      "text/plain": [
       "sexe   presence_maladie_cardiaque\n",
       "femme  0                             143\n",
       "       1                              50\n",
       "homme  0                             267\n",
       "       1                             458\n",
       "dtype: int64"
      ]
     },
     "execution_count": 27,
     "metadata": {},
     "output_type": "execute_result"
    }
   ],
   "source": [
    "df_sex = df.groupby([\"sexe\",\"presence_maladie_cardiaque\"]).size()\n",
    "df_sex"
   ]
  },
  {
   "cell_type": "code",
   "execution_count": 29,
   "metadata": {},
   "outputs": [
    {
     "data": {
      "image/png": "[encoded data removed]",
      "text/plain": [
       "<Figure size 432x288 with 1 Axes>"
      ]
     },
     "metadata": {},
     "output_type": "display_data"
    }
   ],
   "source": [
    "plt.pie(df_sex.values, labels = [\"Femme_absence_maladie_cardiaque\", \"Femme_presence_maladie_cardiaque\", \"Homme_absence_maladie_cardiaque\", \"Homme_presence_maladie_cardiaque\"],autopct='%1.1f%%',radius = 1.5, textprops = {\"fontsize\" : 16})\n",
    "plt.show()"
   ]
  },
  {
   "cell_type": "code",
   "execution_count": 30,
   "metadata": {},
   "outputs": [],
   "source": [
    "def classe_age(x):\n",
    "    if x < 25:\n",
    "        tranche_age = \"< 25\"\n",
    "    elif  25 <= x < 30:\n",
    "        tranche_age = \"25-30\"\n",
    "    elif 30 <= x < 35:\n",
    "        tranche_age = \"30-35\"\n",
    "    elif 35 <= x < 40:\n",
    "        tranche_age = \"35-40\"\n",
    "    elif 40 <= x < 45:\n",
    "        tranche_age = \"40-45\"\n",
    "    elif 45 <= x < 50:\n",
    "        tranche_age = \"45-50\"\n",
    "    elif 50 <= x < 55:\n",
    "        tranche_age = \"50-55\"\n",
    "    elif 55 <= x < 60:\n",
    "        tranche_age = \"55-60\"\n",
    "    elif 60 <= x < 65:\n",
    "        tranche_age = \"60-65\"\n",
    "    else:\n",
    "        tranche_age = \" > 65\"\n",
    "    return tranche_age"
   ]
  },
  {
   "cell_type": "code",
   "execution_count": 32,
   "metadata": {},
   "outputs": [],
   "source": [
    "df.insert(df.columns.get_loc('age')+1, 'tranche_age', df['age'].map(classe_age))"
   ]
  },
  {
   "cell_type": "code",
   "execution_count": 33,
   "metadata": {},
   "outputs": [
    {
     "data": {
      "text/html": [
       "<div>\n",
       "<style scoped>\n",
       "    .dataframe tbody tr th:only-of-type {\n",
       "        vertical-align: middle;\n",
       "    }\n",
       "\n",
       "    .dataframe tbody tr th {\n",
       "        vertical-align: top;\n",
       "    }\n",
       "\n",
       "    .dataframe thead th {\n",
       "        text-align: right;\n",
       "    }\n",
       "</style>\n",
       "<table border=\"1\" class=\"dataframe\">\n",
       "  <thead>\n",
       "    <tr style=\"text-align: right;\">\n",
       "      <th></th>\n",
       "      <th>age</th>\n",
       "      <th>tranche_age</th>\n",
       "      <th>sexe</th>\n",
       "      <th>type_douleur_thoracique</th>\n",
       "      <th>pression_artérielle</th>\n",
       "      <th>cholesterol</th>\n",
       "      <th>glycémie_a_jeun</th>\n",
       "      <th>résultats_electrocardiogramme</th>\n",
       "      <th>fréquence_cardiaque_maximale</th>\n",
       "      <th>angine</th>\n",
       "      <th>depression</th>\n",
       "      <th>pente_du_segment_ST_exercice</th>\n",
       "      <th>presence_maladie_cardiaque</th>\n",
       "    </tr>\n",
       "  </thead>\n",
       "  <tbody>\n",
       "    <tr>\n",
       "      <th>0</th>\n",
       "      <td>40</td>\n",
       "      <td>40-45</td>\n",
       "      <td>homme</td>\n",
       "      <td>AA</td>\n",
       "      <td>140</td>\n",
       "      <td>289</td>\n",
       "      <td>0</td>\n",
       "      <td>Normal</td>\n",
       "      <td>172</td>\n",
       "      <td>Non</td>\n",
       "      <td>0.0</td>\n",
       "      <td>Ascendant</td>\n",
       "      <td>0</td>\n",
       "    </tr>\n",
       "    <tr>\n",
       "      <th>1</th>\n",
       "      <td>49</td>\n",
       "      <td>45-50</td>\n",
       "      <td>femme</td>\n",
       "      <td>DNA</td>\n",
       "      <td>160</td>\n",
       "      <td>180</td>\n",
       "      <td>0</td>\n",
       "      <td>Normal</td>\n",
       "      <td>156</td>\n",
       "      <td>Non</td>\n",
       "      <td>1.0</td>\n",
       "      <td>Plat</td>\n",
       "      <td>1</td>\n",
       "    </tr>\n",
       "    <tr>\n",
       "      <th>2</th>\n",
       "      <td>37</td>\n",
       "      <td>35-40</td>\n",
       "      <td>homme</td>\n",
       "      <td>AA</td>\n",
       "      <td>130</td>\n",
       "      <td>283</td>\n",
       "      <td>0</td>\n",
       "      <td>ST</td>\n",
       "      <td>98</td>\n",
       "      <td>Non</td>\n",
       "      <td>0.0</td>\n",
       "      <td>Ascendant</td>\n",
       "      <td>0</td>\n",
       "    </tr>\n",
       "    <tr>\n",
       "      <th>3</th>\n",
       "      <td>48</td>\n",
       "      <td>45-50</td>\n",
       "      <td>femme</td>\n",
       "      <td>ASY</td>\n",
       "      <td>138</td>\n",
       "      <td>214</td>\n",
       "      <td>0</td>\n",
       "      <td>Normal</td>\n",
       "      <td>108</td>\n",
       "      <td>Oui</td>\n",
       "      <td>1.5</td>\n",
       "      <td>Plat</td>\n",
       "      <td>1</td>\n",
       "    </tr>\n",
       "    <tr>\n",
       "      <th>4</th>\n",
       "      <td>54</td>\n",
       "      <td>50-55</td>\n",
       "      <td>homme</td>\n",
       "      <td>DNA</td>\n",
       "      <td>150</td>\n",
       "      <td>195</td>\n",
       "      <td>0</td>\n",
       "      <td>Normal</td>\n",
       "      <td>122</td>\n",
       "      <td>Non</td>\n",
       "      <td>0.0</td>\n",
       "      <td>Ascendant</td>\n",
       "      <td>0</td>\n",
       "    </tr>\n",
       "  </tbody>\n",
       "</table>\n",
       "</div>"
      ],
      "text/plain": [
       "   age tranche_age   sexe type_douleur_thoracique  pression_artérielle  \\\n",
       "0   40       40-45  homme                      AA                  140   \n",
       "1   49       45-50  femme                     DNA                  160   \n",
       "2   37       35-40  homme                      AA                  130   \n",
       "3   48       45-50  femme                     ASY                  138   \n",
       "4   54       50-55  homme                     DNA                  150   \n",
       "\n",
       "   cholesterol  glycémie_a_jeun résultats_electrocardiogramme  \\\n",
       "0          289                0                        Normal   \n",
       "1          180                0                        Normal   \n",
       "2          283                0                            ST   \n",
       "3          214                0                        Normal   \n",
       "4          195                0                        Normal   \n",
       "\n",
       "   fréquence_cardiaque_maximale angine  depression  \\\n",
       "0                           172    Non         0.0   \n",
       "1                           156    Non         1.0   \n",
       "2                            98    Non         0.0   \n",
       "3                           108    Oui         1.5   \n",
       "4                           122    Non         0.0   \n",
       "\n",
       "  pente_du_segment_ST_exercice  presence_maladie_cardiaque  \n",
       "0                    Ascendant                           0  \n",
       "1                         Plat                           1  \n",
       "2                    Ascendant                           0  \n",
       "3                         Plat                           1  \n",
       "4                    Ascendant                           0  "
      ]
     },
     "execution_count": 33,
     "metadata": {},
     "output_type": "execute_result"
    }
   ],
   "source": [
    "df.head()"
   ]
  },
  {
   "cell_type": "code",
   "execution_count": 38,
   "metadata": {},
   "outputs": [
    {
     "data": {
      "image/png": "[encoded data removed]",
      "text/plain": [
       "<Figure size 1080x432 with 1 Axes>"
      ]
     },
     "metadata": {
      "needs_background": "light"
     },
     "output_type": "display_data"
    }
   ],
   "source": [
    "plt.figure(figsize=(15, 6))\n",
    "plt.hist([df[df.presence_maladie_cardiaque==0].tranche_age, df[df.presence_maladie_cardiaque==1].tranche_age], bins = 20, alpha = 0.5, label = [\"abscence_maladie_cardiaque\",\"presence_maladie_cardiaque\"])\n",
    "plt.xlabel(\"tranche_age\")\n",
    "plt.ylabel(\"Nombre d'individu\")\n",
    "plt.legend()\n",
    "plt.show()"
   ]
  },
  {
   "cell_type": "code",
   "execution_count": 43,
   "metadata": {},
   "outputs": [
    {
     "data": {
      "image/png": "[encoded data removed]",
      "text/plain": [
       "<Figure size 1080x432 with 1 Axes>"
      ]
     },
     "metadata": {
      "needs_background": "light"
     },
     "output_type": "display_data"
    }
   ],
   "source": [
    "plt.figure(figsize=(15, 6))\n",
    "plt.hist([df[df.presence_maladie_cardiaque==1].cholesterol, df[df.presence_maladie_cardiaque==0].cholesterol], bins = 20, alpha = 0.5, label = [\"abscence_maladie_cardiaque\",\"presence_maladie_cardiaque\"])\n",
    "plt.xlabel(\"cholesterol\")\n",
    "plt.ylabel(\"Nombre d'individu\")\n",
    "plt.legend()\n",
    "plt.show()"
   ]
  },
  {
   "cell_type": "code",
   "execution_count": 44,
   "metadata": {},
   "outputs": [
    {
     "data": {
      "text/plain": [
       "Index(['age', 'tranche_age', 'sexe', 'type_douleur_thoracique',\n",
       "       'pression_artérielle', 'cholesterol', 'glycémie_a_jeun',\n",
       "       'résultats_electrocardiogramme', 'fréquence_cardiaque_maximale',\n",
       "       'angine', 'depression', 'pente_du_segment_ST_exercice',\n",
       "       'presence_maladie_cardiaque'],\n",
       "      dtype='object')"
      ]
     },
     "execution_count": 44,
     "metadata": {},
     "output_type": "execute_result"
    }
   ],
   "source": [
    "df.columns"
   ]
  },
  {
   "cell_type": "code",
   "execution_count": 45,
   "metadata": {},
   "outputs": [
    {
     "data": {
      "image/png": "[encoded data removed]",
      "text/plain": [
       "<Figure size 1080x432 with 1 Axes>"
      ]
     },
     "metadata": {
      "needs_background": "light"
     },
     "output_type": "display_data"
    }
   ],
   "source": [
    "plt.figure(figsize=(15, 6))\n",
    "plt.hist([df[df.presence_maladie_cardiaque==0].pression_artérielle, df[df.presence_maladie_cardiaque==1].pression_artérielle], bins = 20, alpha = 0.5, label = [\"abscence_maladie_cardiaque\",\"presence_maladie_cardiaque\"])\n",
    "plt.xlabel(\"pression_artérielle\")\n",
    "plt.ylabel(\"Nombre d'individu\")\n",
    "plt.legend()\n",
    "plt.show()"
   ]
  },
  {
   "cell_type": "code",
   "execution_count": 48,
   "metadata": {},
   "outputs": [
    {
     "data": {
      "image/png": "[encoded data removed]",
      "text/plain": [
       "<Figure size 1080x432 with 1 Axes>"
      ]
     },
     "metadata": {
      "needs_background": "light"
     },
     "output_type": "display_data"
    }
   ],
   "source": [
    "plt.figure(figsize=(15, 6))\n",
    "plt.hist([df[df.presence_maladie_cardiaque==0].fréquence_cardiaque_maximale, df[df.presence_maladie_cardiaque==1].fréquence_cardiaque_maximale], bins = 20, alpha = 0.5, label = [\"abscence_maladie_cardiaque\",\"presence_maladie_cardiaque\"])\n",
    "plt.xlabel(\"fréquence_cardiaque_maximale\")\n",
    "plt.ylabel(\"Nombre d'individu\")\n",
    "plt.legend()\n",
    "plt.show()"
   ]
  },
  {
   "cell_type": "code",
   "execution_count": null,
   "metadata": {},
   "outputs": [],
   "source": []
  },
  {
   "cell_type": "code",
   "execution_count": null,
   "metadata": {},
   "outputs": [],
   "source": []
  },
  {
   "cell_type": "markdown",
   "metadata": {
    "tags": []
   },
   "source": [
    "# Mission: Analyse Exploratoire du dataset Heat\n",
    "## Problème: Prédire la présence d'une maladie cardiaque ou non\n",
    "\n",
    "**Analyse de la forme** \n",
    "- Le dataset contient 918 individus (lignes) et 12 variables (colonnes)\n",
    "- De plus nous avons 5 variables **quantitatives** (age, pression_artérielle, cholesterol, fréquence_cardiaque_maximale, depression\n",
    "- Et 7 variables **qualitatives** dont la variable cible (sexe, type_douleur_thoracique, glycémie_a_jeun,résultats_electrocardiogramme, angine, pente_du_segment_ST_exercice, presence_maladie_cardiaque)\n",
    "- Certaines variables ont **été recodé** (notamment: presence_maladie_cardiaque)\n",
    "- Il n'y a pas de valeurs manquantes dans notre dataset\n",
    "\n",
    "\n",
    "**Analyse de Fond**\n",
    "- Nous constatons qu'il y a **55.3%** d'individu qui présente une maladie cardiaque contre **44.7%** d'individu qui n'en présente pas\n",
    "- la maladie cardiaque touche plus les Hommes **49.9%** environ *50%* que les femmes avec **5.4%**\n",
    "- A partir des ages, nous construisons des classes d'ages pour mieux classifier les individus et cibler la classe la plus touchée par la maladie\n",
    "- Les individus **les plus touchés** par la maladie cardiaque ont leur age compris entre **55 et 60 ans** et **les moins touchés** ont leur age compris entre **25 et 30 ans**. Donc on peut dire que la maladie cardiaque **touche** les **plus agées** que les **plus** **jeunes**\n",
    "- En outre, les quantités de personnes souffrant de maladies cardiaques dépassent **200 mg/dl de chol**. Selon la recherche, la valeur normale du chol devrait être inférieure à 200 mg/dl. \n",
    "- La tension artérielle idéale doit être inférieure à 120 mmHg. Que les patients aient une maladie cardiaque ou non, plus de 50 % des patients ont une pression artérielle plus élevée. \n",
    "- La fréquence cardiaque maximale (FCMT = 220 - AgeMoyen) est négativement liée à l'âge.  Il semble que la moyenne des patients atteints d'une maladie cardiaque soit plus élevée. Ainsi plus l'individu a un age élévé (donc atteint de maladie cardiaque) l'age est élévé moins sera la fréquence cardiaque maximale et inversement"
   ]
  },
  {
   "cell_type": "code",
   "execution_count": null,
   "metadata": {},
   "outputs": [],
   "source": []
  }
 ],
 "metadata": {
  "kernelspec": {
   "display_name": "Python 3",
   "language": "python",
   "name": "python3"
  },
  "language_info": {
   "codemirror_mode": {
    "name": "ipython",
    "version": 3
   },
   "file_extension": ".py",
   "mimetype": "text/x-python",
   "name": "python",
   "nbconvert_exporter": "python",
   "pygments_lexer": "ipython3",
   "version": "3.8.10"
  }
 },
 "nbformat": 4,
 "nbformat_minor": 4
}
